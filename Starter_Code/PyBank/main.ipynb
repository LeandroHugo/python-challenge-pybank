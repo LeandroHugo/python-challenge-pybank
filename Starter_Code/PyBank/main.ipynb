{
 "cells": [
  {
   "cell_type": "code",
   "execution_count": 37,
   "metadata": {},
   "outputs": [],
   "source": [
    "import pandas as pd\n",
    "from pathlib import Path"
   ]
  },
  {
   "cell_type": "code",
   "execution_count": 38,
   "metadata": {},
   "outputs": [],
   "source": [
    "file_path = Path(\"Resources/budget_data.csv\")\n",
    "\n",
    "df = pd.read_csv(file_path)"
   ]
  },
  {
   "cell_type": "code",
   "execution_count": 39,
   "metadata": {},
   "outputs": [],
   "source": [
    "rows, columns = df.shape"
   ]
  },
  {
   "cell_type": "code",
   "execution_count": 40,
   "metadata": {},
   "outputs": [
    {
     "name": "stdout",
     "output_type": "stream",
     "text": [
      "The total number of months is 86\n"
     ]
    }
   ],
   "source": [
    "print(f\"The total number of months is {rows}\")"
   ]
  },
  {
   "cell_type": "code",
   "execution_count": 41,
   "metadata": {},
   "outputs": [
    {
     "name": "stdout",
     "output_type": "stream",
     "text": [
      "net_total_amount is $38,382,578.00\n"
     ]
    }
   ],
   "source": [
    "net_total_amount = df[\"Profit/Losses\"].sum()\n",
    "print(\"net_total_amount is ${:,.2f}\".format(net_total_amount))"
   ]
  },
  {
   "cell_type": "code",
   "execution_count": 42,
   "metadata": {},
   "outputs": [
    {
     "name": "stdout",
     "output_type": "stream",
     "text": [
      "38382578\n"
     ]
    }
   ],
   "source": [
    "net_total_amount = df[\"Profit/Losses\"].sum()\n",
    "print(net_total_amount)"
   ]
  },
  {
   "cell_type": "code",
   "execution_count": 43,
   "metadata": {},
   "outputs": [
    {
     "name": "stdout",
     "output_type": "stream",
     "text": [
      "-2315.1176470588234\n"
     ]
    }
   ],
   "source": [
    "df['Change'] = df['Profit/Losses'] - df['Profit/Losses'].shift(1)\n",
    "average_change = df['Change'].mean()\n",
    "print(average_change)"
   ]
  },
  {
   "cell_type": "code",
   "execution_count": 52,
   "metadata": {},
   "outputs": [
    {
     "ename": "SyntaxError",
     "evalue": "invalid syntax (2216434657.py, line 1)",
     "output_type": "error",
     "traceback": [
      "\u001b[0;36m  File \u001b[0;32m\"/var/folders/0q/2y70gylj1sj8j0697rn106q00000gn/T/ipykernel_58617/2216434657.py\"\u001b[0;36m, line \u001b[0;32m1\u001b[0m\n\u001b[0;31m    pd(greatest_increase_profit] = pd['Profit/Losses'].max() - pd['Profit/Losses'].shift(1)\u001b[0m\n\u001b[0m                               ^\u001b[0m\n\u001b[0;31mSyntaxError\u001b[0m\u001b[0;31m:\u001b[0m invalid syntax\n"
     ]
    }
   ],
   "source": [
    "pd[pdgreatest_increase_profit] = pd['Profit/Losses'].max() - pd['Profit/Losses'].shift(1)\n",
    "max_profit_amount = pd['Profit/Losses'].max()\n",
    "max_profit_date = pd['Date'].max()\n",
    "print(max_profit_amount)"
   ]
  },
  {
   "cell_type": "code",
   "execution_count": 55,
   "metadata": {},
   "outputs": [
    {
     "name": "stdout",
     "output_type": "stream",
     "text": [
      "Feb-2012\n",
      "1926159.0\n"
     ]
    }
   ],
   "source": [
    "df=pd.read_csv(file_path)\n",
    "df['Change'] = df['Profit/Losses'].diff()\n",
    "date_of_max_increase = df.loc[df['Change'].idxmax(), 'Date']\n",
    "amount_of_max_increase = df.loc[df['Change'].idxmax(), 'Change']\n",
    "print(date_of_max_increase)\n",
    "print(amount_of_max_increase)"
   ]
  }
 ],
 "metadata": {
  "kernelspec": {
   "display_name": "Python 3",
   "language": "python",
   "name": "python3"
  },
  "language_info": {
   "codemirror_mode": {
    "name": "ipython",
    "version": 3
   },
   "file_extension": ".py",
   "mimetype": "text/x-python",
   "name": "python",
   "nbconvert_exporter": "python",
   "pygments_lexer": "ipython3",
   "version": "3.7.13"
  },
  "orig_nbformat": 4
 },
 "nbformat": 4,
 "nbformat_minor": 2
}
