{
 "cells": [
  {
   "cell_type": "code",
   "execution_count": 14,
   "metadata": {},
   "outputs": [],
   "source": [
    "import pandas as pd\n",
    "from pathlib import Path"
   ]
  },
  {
   "cell_type": "code",
   "execution_count": 15,
   "metadata": {},
   "outputs": [],
   "source": [
    "file_path = Path(\"Resources/budget_data.csv\")\n",
    "\n",
    "df = pd.read_csv(file_path)"
   ]
  },
  {
   "cell_type": "code",
   "execution_count": 16,
   "metadata": {},
   "outputs": [],
   "source": [
    "rows, columns = df.shape"
   ]
  },
  {
   "cell_type": "code",
   "execution_count": 17,
   "metadata": {},
   "outputs": [
    {
     "name": "stdout",
     "output_type": "stream",
     "text": [
      "The total number of months is 86\n"
     ]
    }
   ],
   "source": [
    "print(f\"The total number of months is {rows}\")"
   ]
  },
  {
   "cell_type": "code",
   "execution_count": 18,
   "metadata": {},
   "outputs": [
    {
     "name": "stdout",
     "output_type": "stream",
     "text": [
      "net_total_amount is $38,382,578.00\n"
     ]
    }
   ],
   "source": [
    "net_total_amount = df[\"Profit/Losses\"].sum()\n",
    "print(\"net_total_amount is ${:,.2f}\".format(net_total_amount))"
   ]
  },
  {
   "cell_type": "code",
   "execution_count": 19,
   "metadata": {},
   "outputs": [
    {
     "name": "stdout",
     "output_type": "stream",
     "text": [
      "38382578\n"
     ]
    }
   ],
   "source": [
    "net_total_amount = df[\"Profit/Losses\"].sum()\n",
    "print(net_total_amount)"
   ]
  },
  {
   "cell_type": "code",
   "execution_count": 23,
   "metadata": {},
   "outputs": [
    {
     "name": "stdout",
     "output_type": "stream",
     "text": [
      "average_change is $-2,315.12\n"
     ]
    }
   ],
   "source": [
    "df['Change'] = df['Profit/Losses'] - df['Profit/Losses'].shift(1)\n",
    "average_change = df['Change'].mean()\n",
    "print(\"average_change is ${:,.2f}\".format(average_change))"
   ]
  },
  {
   "cell_type": "code",
   "execution_count": 21,
   "metadata": {},
   "outputs": [
    {
     "name": "stdout",
     "output_type": "stream",
     "text": [
      "Feb-2012\n",
      "1926159.0\n"
     ]
    }
   ],
   "source": [
    "df=pd.read_csv(file_path)\n",
    "df['Change'] = df['Profit/Losses'].diff()\n",
    "date_of_max_increase = df.loc[df['Change'].idxmax(), 'Date']\n",
    "amount_of_max_increase = df.loc[df['Change'].idxmax(), 'Change']\n",
    "print(date_of_max_increase)\n",
    "print(amount_of_max_increase)"
   ]
  },
  {
   "cell_type": "code",
   "execution_count": 22,
   "metadata": {},
   "outputs": [
    {
     "name": "stdout",
     "output_type": "stream",
     "text": [
      "Sep-2013\n",
      "-2196167.0\n"
     ]
    }
   ],
   "source": [
    "df=pd.read_csv(file_path)\n",
    "df['Change'] = df['Profit/Losses'].diff()\n",
    "date_of_max_decrease = df.loc[df['Change'].idxmin(), 'Date']\n",
    "amount_of_max_decrease = df.loc[df['Change'].idxmin(), 'Change']\n",
    "print(date_of_max_decrease)\n",
    "print(amount_of_max_decrease)"
   ]
  }
 ],
 "metadata": {
  "kernelspec": {
   "display_name": "Python 3",
   "language": "python",
   "name": "python3"
  },
  "language_info": {
   "codemirror_mode": {
    "name": "ipython",
    "version": 3
   },
   "file_extension": ".py",
   "mimetype": "text/x-python",
   "name": "python",
   "nbconvert_exporter": "python",
   "pygments_lexer": "ipython3",
   "version": "3.7.13"
  },
  "orig_nbformat": 4
 },
 "nbformat": 4,
 "nbformat_minor": 2
}
