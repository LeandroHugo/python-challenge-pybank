{
 "cells": [
  {
   "cell_type": "code",
   "execution_count": 5,
   "metadata": {},
   "outputs": [],
   "source": [
    "import csv\n",
    "from pathlib import Path"
   ]
  },
  {
   "cell_type": "code",
   "execution_count": 6,
   "metadata": {},
   "outputs": [],
   "source": [
    "budget_data = Path(\"budget_data.csv\")"
   ]
  },
  {
   "cell_type": "code",
   "execution_count": 9,
   "metadata": {},
   "outputs": [],
   "source": [
    "total_months = 0\n",
    "total_net = 0\n",
    "total_average = 0\n",
    "greatest_increase = [\", 0\"]\n",
    "greatest_decrease = [\", 0\"]\n",
    "\n",
    "change_list = []"
   ]
  },
  {
   "cell_type": "code",
   "execution_count": 12,
   "metadata": {},
   "outputs": [
    {
     "name": "stdout",
     "output_type": "stream",
     "text": [
      "Total Change: 0\n",
      "Total Months: 258\n",
      "Total: 115147734\n"
     ]
    }
   ],
   "source": [
    "with open(budget_data, 'r') as csvfile:\n",
    "\tcsvreader = csv.reader(csvfile, delimiter=',')\n",
    "\theader = next(csvreader) \n",
    "\tfor row in csvreader:\n",
    "\t\ttotal_months += 1 \n",
    "\t\ttotal_net += int(row[1])\n",
    "\t\tchange = int(row[1]) - previous_row\n",
    "\t\tprevious_row = int(row[1])\n",
    "\t\tprevious_row = previous_row + change\n",
    "\n",
    "\n",
    "\n",
    "\n",
    "\t\n",
    "\tprint('Total Change: ' + str(total_average))\n",
    "\tprint('Total Months: ' + str(total_months))\n",
    "\tprint('Total: ' + str(total_net))\n",
    "\t\n"
   ]
  }
 ],
 "metadata": {
  "kernelspec": {
   "display_name": "dev",
   "language": "python",
   "name": "python3"
  },
  "language_info": {
   "codemirror_mode": {
    "name": "ipython",
    "version": 3
   },
   "file_extension": ".py",
   "mimetype": "text/x-python",
   "name": "python",
   "nbconvert_exporter": "python",
   "pygments_lexer": "ipython3",
   "version": "3.7.13"
  },
  "orig_nbformat": 4
 },
 "nbformat": 4,
 "nbformat_minor": 2
}
