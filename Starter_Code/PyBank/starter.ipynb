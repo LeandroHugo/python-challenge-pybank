{
 "cells": [
  {
   "cell_type": "code",
   "execution_count": 148,
   "metadata": {},
   "outputs": [],
   "source": [
    "import csv\n",
    "from pathlib import Path"
   ]
  },
  {
   "cell_type": "code",
   "execution_count": 149,
   "metadata": {},
   "outputs": [],
   "source": [
    "budget_data = Path(\"budget_data.csv\")"
   ]
  },
  {
   "cell_type": "code",
   "execution_count": 150,
   "metadata": {},
   "outputs": [],
   "source": [
    "total_months = 0\n",
    "total_net = 0\n",
    "total_average = 0\n",
    "greatest_increase = [\"\", 0]\n",
    "greatest_decrease = [\"\", 0]\n",
    "\n",
    "change_list = []"
   ]
  },
  {
   "cell_type": "code",
   "execution_count": 151,
   "metadata": {},
   "outputs": [
    {
     "name": "stdout",
     "output_type": "stream",
     "text": [
      "Total Months: 86\n",
      "Total: 38382578\n",
      "Total Average Change: 48462.11627906977\n",
      "Greatest Increase in Profits: 361390655 Dec-2014\n",
      "Greatest Decrease in Profits: -361471139 Mar-2015\n"
     ]
    }
   ],
   "source": [
    "with open(budget_data, 'r') as csvfile:\n",
    "\tcsvreader = csv.reader(csvfile, delimiter=',')\n",
    "\theader = next(csvreader) \n",
    "\tfor row in csvreader:\n",
    "\t\ttotal_months += 1 \n",
    "\t\ttotal_net += int(row[1])\n",
    "\t\tchange = int(row[1]) - previous_row\n",
    "\t\tprevious_row = int(row[1])\n",
    "\t\tprevious_row = previous_row + change\n",
    "\t\tchange_list = change_list + [change]\n",
    "\t\tif change > greatest_increase[1]:\n",
    "\t\t\tgreatest_increase[0] = row[0]\n",
    "\t\t\tgreatest_increase[1] = change\n",
    "\t\tif change < greatest_decrease[1]:\n",
    "\t\t\tgreatest_decrease[0] = row[0]\n",
    "\t\t\tgreatest_decrease[1] = change\n",
    "\n",
    "\t\ttotal_average = sum(change_list) / len(change_list)\n",
    "\n",
    "\tprint('Total Months: ' + str(total_months))\n",
    "\tprint('Total: ' + str(total_net))\n",
    "\tprint('Total Average Change: ' + str(total_average))\n",
    "\tprint('Greatest Increase in Profits: ' + str(greatest_increase[1]) + ' ' + str(greatest_increase[0]))\n",
    "\tprint('Greatest Decrease in Profits: ' + str(greatest_decrease[1]) + ' ' + str(greatest_decrease[0]))\n",
    "\n"
   ]
  }
 ],
 "metadata": {
  "kernelspec": {
   "display_name": "dev",
   "language": "python",
   "name": "python3"
  },
  "language_info": {
   "codemirror_mode": {
    "name": "ipython",
    "version": 3
   },
   "file_extension": ".py",
   "mimetype": "text/x-python",
   "name": "python",
   "nbconvert_exporter": "python",
   "pygments_lexer": "ipython3",
   "version": "3.7.13"
  },
  "orig_nbformat": 4
 },
 "nbformat": 4,
 "nbformat_minor": 2
}
