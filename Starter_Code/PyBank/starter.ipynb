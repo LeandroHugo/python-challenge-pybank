{
 "cells": [
  {
   "cell_type": "code",
   "execution_count": 20,
   "metadata": {},
   "outputs": [
    {
     "data": {
      "text/plain": [
       "PosixPath('/Users/leandrohugo/Desktop/Assignments/python-challenge-pybank Mod2/Starter_Code/PyBank')"
      ]
     },
     "execution_count": 20,
     "metadata": {},
     "output_type": "execute_result"
    }
   ],
   "source": [
    "import csv\n",
    "from pathlib import Path\n",
    "Path.cwd()"
   ]
  },
  {
   "cell_type": "code",
   "execution_count": 21,
   "metadata": {},
   "outputs": [],
   "source": [
    "budget_data = Path(\"budget_data.csv\")"
   ]
  },
  {
   "cell_type": "code",
   "execution_count": 22,
   "metadata": {},
   "outputs": [],
   "source": [
    "total_months = 0\n",
    "total_net = 0\n",
    "total_average = 0\n",
    "greatest_increase = 0\n",
    "greatest_decrease = 0\n",
    "\n",
    "change_list = []"
   ]
  },
  {
   "cell_type": "code",
   "execution_count": 23,
   "metadata": {},
   "outputs": [
    {
     "name": "stdout",
     "output_type": "stream",
     "text": [
      "Financial Analysis\n",
      "----------------------------\n",
      "Total Months: 86\n",
      "Total: $38382578\n",
      "Average Change: $-2315.12\n",
      "Greatest Increase in Profits: Feb-2012 ($1926159)\n",
      "Greatest Decrease in Profits: Sep-2013 ($-2196167)\n"
     ]
    }
   ],
   "source": [
    "with open(budget_data, 'r') as csvfile:\n",
    "\tcsvreader = csv.reader(csvfile, delimiter=',')\n",
    "\theader = next(csvreader)\n",
    "\tfirst_row = next(csvreader)\n",
    "\ttotal_months += 1\n",
    "\ttotal_net += int(first_row[1])\n",
    "\tprevious_net = int(first_row[1])\n",
    "\t\n",
    "\tfor row in csvreader:\n",
    "\t\ttotal_months += 1\n",
    "\t\ttotal_net += int(row[1])\n",
    "\t\tchange = int(row[1]) - previous_net\n",
    "\t\tchange_list.append(change)\n",
    "\t\tprevious_net = int(row[1])\n",
    "\t\tif change > greatest_increase:\n",
    "\t\t\tgreatest_increase = change\n",
    "\t\t\tgreatest_increase_month = row[0]\n",
    "\t\tif change < greatest_decrease:\n",
    "\t\t\tgreatest_decrease = change\n",
    "\t\t\tgreatest_decrease_month = row[0]\n",
    "\t\t\t\n",
    "\ttotal_average = sum(change_list) / len(change_list)\n",
    "\t\n",
    "\tprint(\"Financial Analysis\")\n",
    "\tprint(\"----------------------------\")\n",
    "\tprint(f\"Total Months: {total_months}\")\n",
    "\tprint(f\"Total: ${total_net}\")\n",
    "\tprint(f\"Average Change: ${total_average:.2f}\")\n",
    "\tprint(f\"Greatest Increase in Profits: {greatest_increase_month} (${greatest_increase})\")\n",
    "\tprint(f\"Greatest Decrease in Profits: {greatest_decrease_month} (${greatest_decrease})\")\n",
    "\t"
   ]
  }
 ],
 "metadata": {
  "kernelspec": {
   "display_name": "dev",
   "language": "python",
   "name": "dev"
  },
  "language_info": {
   "codemirror_mode": {
    "name": "ipython",
    "version": 3
   },
   "file_extension": ".py",
   "mimetype": "text/x-python",
   "name": "python",
   "nbconvert_exporter": "python",
   "pygments_lexer": "ipython3",
   "version": "3.9.16"
  },
  "orig_nbformat": 4
 },
 "nbformat": 4,
 "nbformat_minor": 2
}
