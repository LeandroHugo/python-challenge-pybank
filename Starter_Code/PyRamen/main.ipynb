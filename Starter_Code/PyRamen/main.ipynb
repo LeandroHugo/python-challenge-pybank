{
 "cells": [
  {
   "cell_type": "code",
   "execution_count": 1,
   "metadata": {},
   "outputs": [],
   "source": [
    "import pandas as pd\n",
    "from pathlib import Path\n",
    "%matplotlib inline"
   ]
  },
  {
   "cell_type": "code",
   "execution_count": 2,
   "metadata": {},
   "outputs": [],
   "source": [
    "import csv\n",
    "with open('Resources/menu_data.csv') as menu:\n",
    "    menu_reader = csv.reader(menu)\n",
    "    menu_data = next(menu_reader)\n",
    "    menu_list = list(menu_reader)\n",
    "    \n",
    "with open('Resources/sales_data.csv') as sales:\n",
    "    sales_reader = csv.reader(sales)\n",
    "    sales_data = next(sales_reader)\n",
    "    sales_list = list(sales_reader)"
   ]
  },
  {
   "cell_type": "code",
   "execution_count": 18,
   "metadata": {},
   "outputs": [],
   "source": [
    "sales = []\n",
    "row = pd.read_csv('Resources/sales_data.csv')"
   ]
  },
  {
   "cell_type": "code",
   "execution_count": 9,
   "metadata": {},
   "outputs": [],
   "source": [
    "def read_sales():\n",
    "    with open('Resources/sales_data.csv') as cvsfile:\n",
    "        reader = csv.reader(cvsfile)\n",
    "        for row in reader:\n",
    "            sales.append(row)\n",
    "\n",
    "def read_menu():\n",
    "    with open('Resources/menu_data.csv') as cvsfile:\n",
    "        reader = csv.reader(cvsfile)\n",
    "        for row in reader:\n",
    "            menu_list.append(row)"
   ]
  },
  {
   "attachments": {},
   "cell_type": "markdown",
   "metadata": {},
   "source": [
    "# Manipulate the Data"
   ]
  },
  {
   "cell_type": "code",
   "execution_count": 10,
   "metadata": {},
   "outputs": [],
   "source": [
    "report = {}"
   ]
  },
  {
   "cell_type": "code",
   "execution_count": 11,
   "metadata": {},
   "outputs": [],
   "source": [
    "report = {\n",
    "    \"01-count\": 0,\n",
    "    \"02-revenue\": 0,\n",
    "    \"03-cogs\": 0,\n",
    "    \"04-profit\": 0,\n",
    "}"
   ]
  },
  {
   "cell_type": "code",
   "execution_count": 19,
   "metadata": {},
   "outputs": [],
   "source": [
    "quantity = row[\"Quantity\"]\n",
    "menu_item = row[\"Menu_Item\"]"
   ]
  },
  {
   "cell_type": "code",
   "execution_count": 22,
   "metadata": {},
   "outputs": [],
   "source": [
    "for row in sales:\n",
    "\tquantity = row[\"Quantity\"]\n",
    "\tmenu_item = row[\"Menu_Item\"]\n",
    "\tif menu_item not in report:\n",
    "\t\treport[menu_item] = {\n",
    "\t\t\t\"01-count\": 0,\n",
    "\t\t\t\"02-revenue\": 0,\n",
    "\t\t\t\"03-cogs\": 0,\n",
    "\t\t\t\"04-profit\": 0,\n",
    "\t\t}"
   ]
  }
 ],
 "metadata": {
  "kernelspec": {
   "display_name": "dev",
   "language": "python",
   "name": "python3"
  },
  "language_info": {
   "codemirror_mode": {
    "name": "ipython",
    "version": 3
   },
   "file_extension": ".py",
   "mimetype": "text/x-python",
   "name": "python",
   "nbconvert_exporter": "python",
   "pygments_lexer": "ipython3",
   "version": "3.7.13"
  },
  "orig_nbformat": 4
 },
 "nbformat": 4,
 "nbformat_minor": 2
}
